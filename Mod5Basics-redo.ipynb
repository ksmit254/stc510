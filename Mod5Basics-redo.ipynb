{
 "cells": [
  {
   "cell_type": "code",
   "execution_count": 17,
   "id": "f2d1eab5",
   "metadata": {},
   "outputs": [],
   "source": [
    "from nltk import word_tokenize\n",
    "from nltk.corpus import stopwords, wordnet\n",
    "from nltk.stem.wordnet import WordNetLemmatizer\n",
    "from nltk.stem import WordNetLemmatizer\n",
    "from bs4 import BeautifulSoup\n",
    "from string import punctuation \n",
    "from sklearn.feature_extraction.text import TfidfVectorizer\n",
    "from sklearn.model_selection import train_test_split\n",
    "from sklearn.naive_bayes import MultinomialNB\n",
    "from sklearn.metrics import accuracy_score\n",
    "import pandas as pd\n",
    "from datetime import datetime\n",
    "import os\n",
    "import re\n",
    "import json\n",
    "from io import StringIO\n",
    "\n",
    "english_stopwords = set(stopwords.words('english') + list(punctuation)+\n",
    "['..','...','....','``','//n'])"
   ]
  },
  {
   "cell_type": "code",
   "execution_count": 21,
   "id": "0632e7e2",
   "metadata": {},
   "outputs": [],
   "source": [
    "with open('jeopardy.json') as j:\n",
    "   df = json.load(j)"
   ]
  },
  {
   "cell_type": "code",
   "execution_count": 22,
   "id": "4630c7ea",
   "metadata": {},
   "outputs": [],
   "source": [
    "df = pd.read_json('jeopardy.json')\n",
    "df.to_csv (r'jeopardy.txt', index = False)\n",
    "df = pd.read_csv('jeopardy.txt')"
   ]
  },
  {
   "cell_type": "code",
   "execution_count": 23,
   "id": "007b2d36",
   "metadata": {},
   "outputs": [],
   "source": [
    "df['category'] = df['category'].str.lower()\n",
    "df['answer'] = df['answer'].str.lower()\n",
    "df['question'] = df['question'].str.lower()\n",
    "df['round'] = df['round'].str.lower()"
   ]
  },
  {
   "cell_type": "code",
   "execution_count": 26,
   "id": "1d9afea5",
   "metadata": {},
   "outputs": [
    {
     "name": "stderr",
     "output_type": "stream",
     "text": [
      "/var/folders/n8/39l_ts116j73dwgfdhp4wvz40000gn/T/ipykernel_8358/4263738981.py:1: FutureWarning: The default value of regex will change from True to False in a future version. In addition, single character regular expressions will *not* be treated as literal strings when regex=True.\n",
      "  df['value'] = df['value'].str.replace(',', '').str.replace('$', '')\n"
     ]
    }
   ],
   "source": [
    "df['value'] = df['value'].str.replace(',', '').str.replace('$', '')\n",
    "df['value'] = pd.to_numeric(df['value'])"
   ]
  },
  {
   "cell_type": "code",
   "execution_count": 27,
   "id": "6eb54879",
   "metadata": {},
   "outputs": [
    {
     "data": {
      "text/html": [
       "<div>\n",
       "<style scoped>\n",
       "    .dataframe tbody tr th:only-of-type {\n",
       "        vertical-align: middle;\n",
       "    }\n",
       "\n",
       "    .dataframe tbody tr th {\n",
       "        vertical-align: top;\n",
       "    }\n",
       "\n",
       "    .dataframe thead th {\n",
       "        text-align: right;\n",
       "    }\n",
       "</style>\n",
       "<table border=\"1\" class=\"dataframe\">\n",
       "  <thead>\n",
       "    <tr style=\"text-align: right;\">\n",
       "      <th></th>\n",
       "      <th>category</th>\n",
       "      <th>air_date</th>\n",
       "      <th>question</th>\n",
       "      <th>value</th>\n",
       "      <th>answer</th>\n",
       "      <th>round</th>\n",
       "      <th>show_number</th>\n",
       "    </tr>\n",
       "  </thead>\n",
       "  <tbody>\n",
       "    <tr>\n",
       "      <th>0</th>\n",
       "      <td>history</td>\n",
       "      <td>2004-12-31</td>\n",
       "      <td>'for the last 8 years of his life, galileo was...</td>\n",
       "      <td>200.0</td>\n",
       "      <td>copernicus</td>\n",
       "      <td>jeopardy!</td>\n",
       "      <td>4680</td>\n",
       "    </tr>\n",
       "    <tr>\n",
       "      <th>1</th>\n",
       "      <td>espn's top 10 all-time athletes</td>\n",
       "      <td>2004-12-31</td>\n",
       "      <td>'no. 2: 1912 olympian; football star at carlis...</td>\n",
       "      <td>200.0</td>\n",
       "      <td>jim thorpe</td>\n",
       "      <td>jeopardy!</td>\n",
       "      <td>4680</td>\n",
       "    </tr>\n",
       "    <tr>\n",
       "      <th>2</th>\n",
       "      <td>everybody talks about it...</td>\n",
       "      <td>2004-12-31</td>\n",
       "      <td>'the city of yuma in this state has a record a...</td>\n",
       "      <td>200.0</td>\n",
       "      <td>arizona</td>\n",
       "      <td>jeopardy!</td>\n",
       "      <td>4680</td>\n",
       "    </tr>\n",
       "    <tr>\n",
       "      <th>3</th>\n",
       "      <td>the company line</td>\n",
       "      <td>2004-12-31</td>\n",
       "      <td>'in 1963, live on \"the art linkletter show\", t...</td>\n",
       "      <td>200.0</td>\n",
       "      <td>mcdonald\\'s</td>\n",
       "      <td>jeopardy!</td>\n",
       "      <td>4680</td>\n",
       "    </tr>\n",
       "    <tr>\n",
       "      <th>4</th>\n",
       "      <td>epitaphs &amp; tributes</td>\n",
       "      <td>2004-12-31</td>\n",
       "      <td>'signer of the dec. of indep., framer of the c...</td>\n",
       "      <td>200.0</td>\n",
       "      <td>john adams</td>\n",
       "      <td>jeopardy!</td>\n",
       "      <td>4680</td>\n",
       "    </tr>\n",
       "  </tbody>\n",
       "</table>\n",
       "</div>"
      ],
      "text/plain": [
       "                          category    air_date  \\\n",
       "0                          history  2004-12-31   \n",
       "1  espn's top 10 all-time athletes  2004-12-31   \n",
       "2      everybody talks about it...  2004-12-31   \n",
       "3                 the company line  2004-12-31   \n",
       "4              epitaphs & tributes  2004-12-31   \n",
       "\n",
       "                                            question  value       answer  \\\n",
       "0  'for the last 8 years of his life, galileo was...  200.0   copernicus   \n",
       "1  'no. 2: 1912 olympian; football star at carlis...  200.0   jim thorpe   \n",
       "2  'the city of yuma in this state has a record a...  200.0      arizona   \n",
       "3  'in 1963, live on \"the art linkletter show\", t...  200.0  mcdonald\\'s   \n",
       "4  'signer of the dec. of indep., framer of the c...  200.0   john adams   \n",
       "\n",
       "       round  show_number  \n",
       "0  jeopardy!         4680  \n",
       "1  jeopardy!         4680  \n",
       "2  jeopardy!         4680  \n",
       "3  jeopardy!         4680  \n",
       "4  jeopardy!         4680  "
      ]
     },
     "execution_count": 27,
     "metadata": {},
     "output_type": "execute_result"
    }
   ],
   "source": [
    "df.head()"
   ]
  },
  {
   "cell_type": "code",
   "execution_count": 28,
   "id": "9050e9e8",
   "metadata": {},
   "outputs": [
    {
     "data": {
      "text/plain": [
       "216930"
      ]
     },
     "execution_count": 28,
     "metadata": {},
     "output_type": "execute_result"
    }
   ],
   "source": [
    "len(df)"
   ]
  },
  {
   "cell_type": "code",
   "execution_count": 29,
   "id": "a1733996",
   "metadata": {},
   "outputs": [
    {
     "data": {
      "text/plain": [
       "5.0           9\n",
       "20.0          1\n",
       "22.0          1\n",
       "50.0          1\n",
       "100.0      9029\n",
       "           ... \n",
       "13800.0       1\n",
       "14000.0       1\n",
       "14200.0       1\n",
       "16400.0       1\n",
       "18000.0       1\n",
       "Name: value, Length: 145, dtype: int64"
      ]
     },
     "execution_count": 29,
     "metadata": {},
     "output_type": "execute_result"
    }
   ],
   "source": [
    "value_counts = df['value'].sort_values(axis=0).value_counts(sort=False)\n",
    "value_counts[:108465]"
   ]
  },
  {
   "cell_type": "code",
   "execution_count": 36,
   "id": "57b779ea",
   "metadata": {},
   "outputs": [
    {
     "name": "stdout",
     "output_type": "stream",
     "text": [
      "over 600.0 is a high value question\n",
      "*considering 119805 of 216930 answers\n"
     ]
    }
   ],
   "source": [
    "half = (len(df)/2)\n",
    "accumulated_answers=0\n",
    "dollar_threshold=0\n",
    "for dollar_amount, value_count in value_counts.items():\n",
    "    accumulated_answers+=value_count\n",
    "    if accumulated_answers > half:\n",
    "        dollar_threshold = dollar_amount\n",
    "        break;\n",
    "\n",
    "print('over ' + str(dollar_threshold)+' is a high value question')\n",
    "print ('*considering '+str(accumulated_answers)+' of '+str(len(df))+' answers')"
   ]
  },
  {
   "cell_type": "code",
   "execution_count": 37,
   "id": "a281088f",
   "metadata": {},
   "outputs": [
    {
     "ename": "TypeError",
     "evalue": "can only concatenate str (not \"float\") to str",
     "output_type": "error",
     "traceback": [
      "\u001b[0;31m---------------------------------------------------------------------------\u001b[0m",
      "\u001b[0;31mTypeError\u001b[0m                                 Traceback (most recent call last)",
      "\u001b[0;32m/var/folders/n8/39l_ts116j73dwgfdhp4wvz40000gn/T/ipykernel_8358/798094341.py\u001b[0m in \u001b[0;36m<module>\u001b[0;34m\u001b[0m\n\u001b[1;32m      6\u001b[0m \u001b[0;34m\u001b[0m\u001b[0m\n\u001b[1;32m      7\u001b[0m \u001b[0;32mfor\u001b[0m \u001b[0mindex\u001b[0m\u001b[0;34m,\u001b[0m\u001b[0mrow\u001b[0m \u001b[0;32min\u001b[0m \u001b[0mdf\u001b[0m\u001b[0;34m.\u001b[0m\u001b[0miterrows\u001b[0m\u001b[0;34m(\u001b[0m\u001b[0;34m)\u001b[0m\u001b[0;34m:\u001b[0m\u001b[0;34m\u001b[0m\u001b[0;34m\u001b[0m\u001b[0m\n\u001b[0;32m----> 8\u001b[0;31m     \u001b[0mlemm_text\u001b[0m \u001b[0;34m=\u001b[0m \u001b[0;34m[\u001b[0m\u001b[0mlemmatizer\u001b[0m\u001b[0;34m.\u001b[0m\u001b[0mlemmatize\u001b[0m\u001b[0;34m(\u001b[0m\u001b[0mx\u001b[0m\u001b[0;34m)\u001b[0m \u001b[0;32mfor\u001b[0m \u001b[0mx\u001b[0m \u001b[0;32min\u001b[0m \u001b[0mword_tokenize\u001b[0m\u001b[0;34m(\u001b[0m\u001b[0;34m(\u001b[0m\u001b[0mrow\u001b[0m\u001b[0;34m[\u001b[0m\u001b[0;34m'question'\u001b[0m\u001b[0;34m]\u001b[0m\u001b[0;34m+\u001b[0m\u001b[0;34m' '\u001b[0m\u001b[0;34m+\u001b[0m\u001b[0mrow\u001b[0m\u001b[0;34m[\u001b[0m\u001b[0;34m'answer'\u001b[0m\u001b[0;34m]\u001b[0m\u001b[0;34m)\u001b[0m\u001b[0;34m.\u001b[0m\u001b[0mlower\u001b[0m\u001b[0;34m(\u001b[0m\u001b[0;34m)\u001b[0m\u001b[0;34m)\u001b[0m \u001b[0;32mif\u001b[0m \u001b[0mx\u001b[0m \u001b[0;32mnot\u001b[0m \u001b[0;32min\u001b[0m \u001b[0menglish_stopwords\u001b[0m\u001b[0;34m]\u001b[0m\u001b[0;34m\u001b[0m\u001b[0;34m\u001b[0m\u001b[0m\n\u001b[0m\u001b[1;32m      9\u001b[0m     \u001b[0mq_and_a\u001b[0m\u001b[0;34m.\u001b[0m\u001b[0mappend\u001b[0m\u001b[0;34m(\u001b[0m\u001b[0;34m' '\u001b[0m\u001b[0;34m.\u001b[0m\u001b[0mjoin\u001b[0m\u001b[0;34m(\u001b[0m\u001b[0mlemm_text\u001b[0m\u001b[0;34m)\u001b[0m\u001b[0;34m)\u001b[0m\u001b[0;34m\u001b[0m\u001b[0;34m\u001b[0m\u001b[0m\n\u001b[1;32m     10\u001b[0m     \u001b[0;32mif\u001b[0m \u001b[0mrow\u001b[0m\u001b[0;34m.\u001b[0m\u001b[0mvalue\u001b[0m \u001b[0;34m<=\u001b[0m \u001b[0;36m600.0\u001b[0m\u001b[0;34m:\u001b[0m\u001b[0;34m\u001b[0m\u001b[0;34m\u001b[0m\u001b[0m\n",
      "\u001b[0;31mTypeError\u001b[0m: can only concatenate str (not \"float\") to str"
     ]
    }
   ],
   "source": [
    "is_high_value = []\n",
    "q_and_a       = []\n",
    "dollar_values = []\n",
    "\n",
    "lemmatizer = WordNetLemmatizer()\n",
    "\n",
    "for index,row in df.iterrows():\n",
    "    lemm_text = [lemmatizer.lemmatize(x) for x in word_tokenize((row['question']+' '+row['answer']).lower()) if x not in english_stopwords]\n",
    "    q_and_a.append(' '.join(lemm_text))\n",
    "    if row.value <= 600.0:\n",
    "        is_high_value.append(0)\n",
    "    else:\n",
    "        is_high_value.append(1)\n",
    "    dollar_values.append(row.value)"
   ]
  },
  {
   "cell_type": "code",
   "execution_count": 41,
   "id": "9e0829a1",
   "metadata": {},
   "outputs": [],
   "source": [
    "df_final = pd.DataFrame({\"dollar_value\":dollar_values,\"is_high_value\":is_high_value,\"q_and_a\":q_and_a})"
   ]
  },
  {
   "cell_type": "code",
   "execution_count": 42,
   "id": "6e63b1ce",
   "metadata": {},
   "outputs": [],
   "source": [
    "X_train, X_test, y_train, y_test =  (train_test_split(df_final.q_and_a,\n",
    "                                                     df_final.is_high_value, random_state=1))"
   ]
  },
  {
   "cell_type": "code",
   "execution_count": 43,
   "id": "c15189ea",
   "metadata": {},
   "outputs": [],
   "source": [
    "tfidf_vectorizer = TfidfVectorizer()\n",
    "X_train_tf = tfidf_vectorizer.fit_transform(X_train)\n",
    "X_test_tf = tfidf_vectorizer.transform(X_test)"
   ]
  },
  {
   "cell_type": "code",
   "execution_count": 46,
   "id": "44c57a81",
   "metadata": {},
   "outputs": [],
   "source": [
    "naive_bayes = MultinomialNB()\n",
    "naive_bayes.fit(X_train_tf, y_train)\n",
    "prediction = naive_bayes.predict(X_test_tf)"
   ]
  },
  {
   "cell_type": "code",
   "execution_count": 47,
   "id": "6df1595b",
   "metadata": {},
   "outputs": [
    {
     "name": "stdout",
     "output_type": "stream",
     "text": [
      "Accuracy:  0.5848133305209872\n"
     ]
    }
   ],
   "source": [
    "print('Accuracy: ', accuracy_score(y_test, prediction))"
   ]
  }
 ],
 "metadata": {
  "kernelspec": {
   "display_name": "Python 3 (ipykernel)",
   "language": "python",
   "name": "python3"
  },
  "language_info": {
   "codemirror_mode": {
    "name": "ipython",
    "version": 3
   },
   "file_extension": ".py",
   "mimetype": "text/x-python",
   "name": "python",
   "nbconvert_exporter": "python",
   "pygments_lexer": "ipython3",
   "version": "3.9.7"
  }
 },
 "nbformat": 4,
 "nbformat_minor": 5
}
